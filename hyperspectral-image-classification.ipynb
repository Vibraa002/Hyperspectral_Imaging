{
 "cells": [
  {
   "cell_type": "markdown",
   "id": "5d30c4ab",
   "metadata": {
    "papermill": {
     "duration": 0.012707,
     "end_time": "2022-08-17T08:55:23.078710",
     "exception": false,
     "start_time": "2022-08-17T08:55:23.066003",
     "status": "completed"
    },
    "tags": []
   },
   "source": [
    "# Version Note:\n",
    "\n",
    "Source: https://www.kaggle.com/code/dwin183287/tps-jan-2021-eda-models"
   ]
  },
  {
   "cell_type": "code",
   "execution_count": 1,
   "id": "ce95e3ce",
   "metadata": {
    "execution": {
     "iopub.execute_input": "2022-08-17T08:55:23.102752Z",
     "iopub.status.busy": "2022-08-17T08:55:23.102258Z",
     "iopub.status.idle": "2022-08-17T08:55:35.481439Z",
     "shell.execute_reply": "2022-08-17T08:55:35.480362Z"
    },
    "papermill": {
     "duration": 12.394426,
     "end_time": "2022-08-17T08:55:35.484327",
     "exception": false,
     "start_time": "2022-08-17T08:55:23.089901",
     "status": "completed"
    },
    "tags": []
   },
   "outputs": [
    {
     "data": {
      "text/html": [
       "<style type='text/css'>\n",
       ".datatable table.frame { margin-bottom: 0; }\n",
       ".datatable table.frame thead { border-bottom: none; }\n",
       ".datatable table.frame tr.coltypes td {  color: #FFFFFF;  line-height: 6px;  padding: 0 0.5em;}\n",
       ".datatable .bool    { background: #DDDD99; }\n",
       ".datatable .object  { background: #565656; }\n",
       ".datatable .int     { background: #5D9E5D; }\n",
       ".datatable .float   { background: #4040CC; }\n",
       ".datatable .str     { background: #CC4040; }\n",
       ".datatable .time    { background: #40CC40; }\n",
       ".datatable .row_index {  background: var(--jp-border-color3);  border-right: 1px solid var(--jp-border-color0);  color: var(--jp-ui-font-color3);  font-size: 9px;}\n",
       ".datatable .frame tbody td { text-align: left; }\n",
       ".datatable .frame tr.coltypes .row_index {  background: var(--jp-border-color0);}\n",
       ".datatable th:nth-child(2) { padding-left: 12px; }\n",
       ".datatable .hellipsis {  color: var(--jp-cell-editor-border-color);}\n",
       ".datatable .vellipsis {  background: var(--jp-layout-color0);  color: var(--jp-cell-editor-border-color);}\n",
       ".datatable .na {  color: var(--jp-cell-editor-border-color);  font-size: 80%;}\n",
       ".datatable .sp {  opacity: 0.25;}\n",
       ".datatable .footer { font-size: 9px; }\n",
       ".datatable .frame_dimensions {  background: var(--jp-border-color3);  border-top: 1px solid var(--jp-border-color0);  color: var(--jp-ui-font-color3);  display: inline-block;  opacity: 0.6;  padding: 1px 10px 1px 5px;}\n",
       "</style>\n"
      ],
      "text/plain": [
       "<IPython.core.display.HTML object>"
      ]
     },
     "metadata": {},
     "output_type": "display_data"
    }
   ],
   "source": [
    "import os\n",
    "import joblib\n",
    "import numpy as np\n",
    "import pandas as pd\n",
    "\n",
    "from sklearn.linear_model import LogisticRegression\n",
    "from sklearn.tree import DecisionTreeClassifier\n",
    "from sklearn.ensemble import RandomForestClassifier, AdaBoostClassifier\n",
    "from sklearn.preprocessing import StandardScaler, MinMaxScaler\n",
    "from sklearn.metrics import auc\n",
    "from sklearn.model_selection import cross_val_score, cross_val_predict,RandomizedSearchCV, KFold\n",
    "from sklearn.metrics import accuracy_score, classification_report, confusion_matrix\n",
    "\n",
    "from lightgbm import LGBMClassifier\n",
    "from xgboost import XGBClassifier\n",
    "from catboost import CatBoostClassifier\n",
    "\n",
    "import matplotlib\n",
    "import matplotlib.pyplot as plt\n",
    "import seaborn as sns\n",
    "\n",
    "import tensorflow as tf\n",
    "from tensorflow import keras\n",
    "from tensorflow.keras import layers\n",
    "from tensorflow.keras.layers.experimental import preprocessing\n",
    "\n",
    "import optuna"
   ]
  },
  {
   "cell_type": "code",
   "execution_count": 2,
   "id": "35af4ad6",
   "metadata": {
    "_cell_guid": "79c7e3d0-c299-4dcb-8224-4455121ee9b0",
    "_uuid": "d629ff2d2480ee46fbb7e2d37f6b5fab8052498a",
    "execution": {
     "iopub.execute_input": "2022-08-17T08:55:35.510538Z",
     "iopub.status.busy": "2022-08-17T08:55:35.508696Z",
     "iopub.status.idle": "2022-08-17T08:55:36.929704Z",
     "shell.execute_reply": "2022-08-17T08:55:36.928709Z"
    },
    "papermill": {
     "duration": 1.43633,
     "end_time": "2022-08-17T08:55:36.932255",
     "exception": false,
     "start_time": "2022-08-17T08:55:35.495925",
     "status": "completed"
    },
    "tags": []
   },
   "outputs": [],
   "source": [
    "train_df = pd.read_csv('../input/hyperspectral-classification-ii/train_without_leak.csv')\n",
    "test_df = pd.read_csv('../input/hyperspectral-classification-ii/test_without_leak.csv')\n",
    "submission = pd.read_csv('../input/hyperspectral-classification-ii/sample_submission_without_leak.csv')"
   ]
  },
  {
   "cell_type": "code",
   "execution_count": 3,
   "id": "abf39db5",
   "metadata": {
    "execution": {
     "iopub.execute_input": "2022-08-17T08:55:36.958475Z",
     "iopub.status.busy": "2022-08-17T08:55:36.958084Z",
     "iopub.status.idle": "2022-08-17T08:55:36.991393Z",
     "shell.execute_reply": "2022-08-17T08:55:36.990192Z"
    },
    "papermill": {
     "duration": 0.04868,
     "end_time": "2022-08-17T08:55:36.994081",
     "exception": false,
     "start_time": "2022-08-17T08:55:36.945401",
     "status": "completed"
    },
    "tags": []
   },
   "outputs": [],
   "source": [
    "features = [feature for feature in train_df.columns if feature not in ['pixel_id', 'target']]\n",
    "X_train = train_df[features]\n",
    "y_train = train_df['target']\n",
    "X_test = test_df[features]"
   ]
  },
  {
   "cell_type": "code",
   "execution_count": 4,
   "id": "38920b4c",
   "metadata": {
    "execution": {
     "iopub.execute_input": "2022-08-17T08:55:37.019167Z",
     "iopub.status.busy": "2022-08-17T08:55:37.018001Z",
     "iopub.status.idle": "2022-08-17T08:55:37.139542Z",
     "shell.execute_reply": "2022-08-17T08:55:37.138489Z"
    },
    "papermill": {
     "duration": 0.136765,
     "end_time": "2022-08-17T08:55:37.142191",
     "exception": false,
     "start_time": "2022-08-17T08:55:37.005426",
     "status": "completed"
    },
    "tags": []
   },
   "outputs": [],
   "source": [
    "from imblearn.over_sampling import SMOTE\n",
    "from imblearn.over_sampling import BorderlineSMOTE\n",
    "from imblearn.under_sampling import RandomUnderSampler"
   ]
  },
  {
   "cell_type": "code",
   "execution_count": 5,
   "id": "c5958641",
   "metadata": {
    "execution": {
     "iopub.execute_input": "2022-08-17T08:55:37.166653Z",
     "iopub.status.busy": "2022-08-17T08:55:37.166260Z",
     "iopub.status.idle": "2022-08-17T08:55:37.597174Z",
     "shell.execute_reply": "2022-08-17T08:55:37.596089Z"
    },
    "papermill": {
     "duration": 0.44618,
     "end_time": "2022-08-17T08:55:37.599774",
     "exception": false,
     "start_time": "2022-08-17T08:55:37.153594",
     "status": "completed"
    },
    "tags": []
   },
   "outputs": [],
   "source": [
    "oversample = SMOTE(random_state=0)\n",
    "X_train_smote, y_train_smote = oversample.fit_resample(X_train, y_train)"
   ]
  },
  {
   "cell_type": "code",
   "execution_count": 6,
   "id": "0e890a85",
   "metadata": {
    "execution": {
     "iopub.execute_input": "2022-08-17T08:55:37.624478Z",
     "iopub.status.busy": "2022-08-17T08:55:37.623523Z",
     "iopub.status.idle": "2022-08-17T08:55:37.683224Z",
     "shell.execute_reply": "2022-08-17T08:55:37.682075Z"
    },
    "papermill": {
     "duration": 0.075015,
     "end_time": "2022-08-17T08:55:37.686231",
     "exception": false,
     "start_time": "2022-08-17T08:55:37.611216",
     "status": "completed"
    },
    "tags": []
   },
   "outputs": [],
   "source": [
    "downsample = RandomUnderSampler(random_state=42)\n",
    "X_train_rus, y_train_rus = downsample.fit_resample(X_train, y_train)"
   ]
  },
  {
   "cell_type": "code",
   "execution_count": 7,
   "id": "7009d65a",
   "metadata": {
    "execution": {
     "iopub.execute_input": "2022-08-17T08:55:37.711203Z",
     "iopub.status.busy": "2022-08-17T08:55:37.710794Z",
     "iopub.status.idle": "2022-08-17T08:55:37.722505Z",
     "shell.execute_reply": "2022-08-17T08:55:37.721613Z"
    },
    "papermill": {
     "duration": 0.026508,
     "end_time": "2022-08-17T08:55:37.724526",
     "exception": false,
     "start_time": "2022-08-17T08:55:37.698018",
     "status": "completed"
    },
    "tags": []
   },
   "outputs": [
    {
     "data": {
      "text/plain": [
       "0.0    29\n",
       "1.0    29\n",
       "2.0    29\n",
       "Name: target, dtype: int64"
      ]
     },
     "execution_count": 7,
     "metadata": {},
     "output_type": "execute_result"
    }
   ],
   "source": [
    "y_train_rus.value_counts()"
   ]
  },
  {
   "cell_type": "code",
   "execution_count": 8,
   "id": "e386a1ed",
   "metadata": {
    "execution": {
     "iopub.execute_input": "2022-08-17T08:55:37.749558Z",
     "iopub.status.busy": "2022-08-17T08:55:37.748771Z",
     "iopub.status.idle": "2022-08-17T08:55:37.758535Z",
     "shell.execute_reply": "2022-08-17T08:55:37.757216Z"
    },
    "papermill": {
     "duration": 0.025078,
     "end_time": "2022-08-17T08:55:37.761065",
     "exception": false,
     "start_time": "2022-08-17T08:55:37.735987",
     "status": "completed"
    },
    "tags": []
   },
   "outputs": [
    {
     "data": {
      "text/plain": [
       "0.0    6074\n",
       "1.0    6074\n",
       "2.0    6074\n",
       "Name: target, dtype: int64"
      ]
     },
     "execution_count": 8,
     "metadata": {},
     "output_type": "execute_result"
    }
   ],
   "source": [
    "y_train_smote.value_counts()"
   ]
  },
  {
   "cell_type": "code",
   "execution_count": 9,
   "id": "cfbc2d14",
   "metadata": {
    "_kg_hide-input": true,
    "execution": {
     "iopub.execute_input": "2022-08-17T08:55:37.786735Z",
     "iopub.status.busy": "2022-08-17T08:55:37.786296Z",
     "iopub.status.idle": "2022-08-17T08:55:37.792588Z",
     "shell.execute_reply": "2022-08-17T08:55:37.791396Z"
    },
    "papermill": {
     "duration": 0.022027,
     "end_time": "2022-08-17T08:55:37.795100",
     "exception": false,
     "start_time": "2022-08-17T08:55:37.773073",
     "status": "completed"
    },
    "tags": []
   },
   "outputs": [
    {
     "name": "stdout",
     "output_type": "stream",
     "text": [
      "Rows and Columns in train dataset: (6132, 362)\n",
      "Rows and Columns in test dataset: (6132, 361)\n"
     ]
    }
   ],
   "source": [
    "print('Rows and Columns in train dataset:', train_df.shape)\n",
    "print('Rows and Columns in test dataset:', test_df.shape)"
   ]
  },
  {
   "cell_type": "code",
   "execution_count": 10,
   "id": "fb0f4b8f",
   "metadata": {
    "_kg_hide-input": true,
    "execution": {
     "iopub.execute_input": "2022-08-17T08:55:37.820888Z",
     "iopub.status.busy": "2022-08-17T08:55:37.820125Z",
     "iopub.status.idle": "2022-08-17T08:55:37.850075Z",
     "shell.execute_reply": "2022-08-17T08:55:37.848757Z"
    },
    "papermill": {
     "duration": 0.045646,
     "end_time": "2022-08-17T08:55:37.852610",
     "exception": false,
     "start_time": "2022-08-17T08:55:37.806964",
     "status": "completed"
    },
    "tags": []
   },
   "outputs": [
    {
     "name": "stdout",
     "output_type": "stream",
     "text": [
      "First 5 data in the train dataset:\n"
     ]
    },
    {
     "data": {
      "text/html": [
       "<div>\n",
       "<style scoped>\n",
       "    .dataframe tbody tr th:only-of-type {\n",
       "        vertical-align: middle;\n",
       "    }\n",
       "\n",
       "    .dataframe tbody tr th {\n",
       "        vertical-align: top;\n",
       "    }\n",
       "\n",
       "    .dataframe thead th {\n",
       "        text-align: right;\n",
       "    }\n",
       "</style>\n",
       "<table border=\"1\" class=\"dataframe\">\n",
       "  <thead>\n",
       "    <tr style=\"text-align: right;\">\n",
       "      <th></th>\n",
       "      <th>pixel_id</th>\n",
       "      <th>band1</th>\n",
       "      <th>band2</th>\n",
       "      <th>band3</th>\n",
       "      <th>band4</th>\n",
       "      <th>band5</th>\n",
       "      <th>band6</th>\n",
       "      <th>band7</th>\n",
       "      <th>band8</th>\n",
       "      <th>band9</th>\n",
       "      <th>...</th>\n",
       "      <th>band352</th>\n",
       "      <th>band353</th>\n",
       "      <th>band354</th>\n",
       "      <th>band355</th>\n",
       "      <th>band356</th>\n",
       "      <th>band357</th>\n",
       "      <th>band358</th>\n",
       "      <th>band359</th>\n",
       "      <th>band360</th>\n",
       "      <th>target</th>\n",
       "    </tr>\n",
       "  </thead>\n",
       "  <tbody>\n",
       "    <tr>\n",
       "      <th>0</th>\n",
       "      <td>0</td>\n",
       "      <td>0.099898</td>\n",
       "      <td>0.100479</td>\n",
       "      <td>0.104012</td>\n",
       "      <td>0.108699</td>\n",
       "      <td>0.113932</td>\n",
       "      <td>0.117117</td>\n",
       "      <td>0.118139</td>\n",
       "      <td>0.118768</td>\n",
       "      <td>0.118964</td>\n",
       "      <td>...</td>\n",
       "      <td>-0.321490</td>\n",
       "      <td>-0.455935</td>\n",
       "      <td>-0.467314</td>\n",
       "      <td>-0.123038</td>\n",
       "      <td>0.215500</td>\n",
       "      <td>0.501770</td>\n",
       "      <td>0.253342</td>\n",
       "      <td>0.148561</td>\n",
       "      <td>-0.021121</td>\n",
       "      <td>0.0</td>\n",
       "    </tr>\n",
       "    <tr>\n",
       "      <th>1</th>\n",
       "      <td>1</td>\n",
       "      <td>0.116952</td>\n",
       "      <td>0.116431</td>\n",
       "      <td>0.117600</td>\n",
       "      <td>0.117725</td>\n",
       "      <td>0.117042</td>\n",
       "      <td>0.113959</td>\n",
       "      <td>0.115088</td>\n",
       "      <td>0.116210</td>\n",
       "      <td>0.118767</td>\n",
       "      <td>...</td>\n",
       "      <td>-0.255321</td>\n",
       "      <td>-0.368646</td>\n",
       "      <td>-0.393768</td>\n",
       "      <td>-0.081815</td>\n",
       "      <td>0.233525</td>\n",
       "      <td>0.526591</td>\n",
       "      <td>0.377525</td>\n",
       "      <td>0.336791</td>\n",
       "      <td>0.198253</td>\n",
       "      <td>0.0</td>\n",
       "    </tr>\n",
       "    <tr>\n",
       "      <th>2</th>\n",
       "      <td>2</td>\n",
       "      <td>0.108681</td>\n",
       "      <td>0.109839</td>\n",
       "      <td>0.113774</td>\n",
       "      <td>0.117101</td>\n",
       "      <td>0.119068</td>\n",
       "      <td>0.120834</td>\n",
       "      <td>0.121657</td>\n",
       "      <td>0.121627</td>\n",
       "      <td>0.121650</td>\n",
       "      <td>...</td>\n",
       "      <td>-0.600094</td>\n",
       "      <td>-0.757896</td>\n",
       "      <td>-0.711437</td>\n",
       "      <td>-0.289917</td>\n",
       "      <td>0.168186</td>\n",
       "      <td>0.627783</td>\n",
       "      <td>0.482006</td>\n",
       "      <td>0.383744</td>\n",
       "      <td>0.207901</td>\n",
       "      <td>0.0</td>\n",
       "    </tr>\n",
       "    <tr>\n",
       "      <th>3</th>\n",
       "      <td>3</td>\n",
       "      <td>0.127586</td>\n",
       "      <td>0.120198</td>\n",
       "      <td>0.114211</td>\n",
       "      <td>0.110567</td>\n",
       "      <td>0.109458</td>\n",
       "      <td>0.112735</td>\n",
       "      <td>0.118176</td>\n",
       "      <td>0.119415</td>\n",
       "      <td>0.121006</td>\n",
       "      <td>...</td>\n",
       "      <td>-0.105756</td>\n",
       "      <td>-0.119838</td>\n",
       "      <td>-0.210905</td>\n",
       "      <td>0.143527</td>\n",
       "      <td>0.441095</td>\n",
       "      <td>0.709301</td>\n",
       "      <td>0.618201</td>\n",
       "      <td>0.509158</td>\n",
       "      <td>0.368789</td>\n",
       "      <td>0.0</td>\n",
       "    </tr>\n",
       "    <tr>\n",
       "      <th>4</th>\n",
       "      <td>4</td>\n",
       "      <td>0.095347</td>\n",
       "      <td>0.095927</td>\n",
       "      <td>0.098766</td>\n",
       "      <td>0.103254</td>\n",
       "      <td>0.109537</td>\n",
       "      <td>0.115701</td>\n",
       "      <td>0.123573</td>\n",
       "      <td>0.126196</td>\n",
       "      <td>0.124234</td>\n",
       "      <td>...</td>\n",
       "      <td>-0.160474</td>\n",
       "      <td>-0.226066</td>\n",
       "      <td>-0.335191</td>\n",
       "      <td>0.154934</td>\n",
       "      <td>0.598158</td>\n",
       "      <td>0.869417</td>\n",
       "      <td>0.712456</td>\n",
       "      <td>0.529970</td>\n",
       "      <td>0.238561</td>\n",
       "      <td>0.0</td>\n",
       "    </tr>\n",
       "  </tbody>\n",
       "</table>\n",
       "<p>5 rows × 362 columns</p>\n",
       "</div>"
      ],
      "text/plain": [
       "   pixel_id     band1     band2     band3     band4     band5     band6  \\\n",
       "0         0  0.099898  0.100479  0.104012  0.108699  0.113932  0.117117   \n",
       "1         1  0.116952  0.116431  0.117600  0.117725  0.117042  0.113959   \n",
       "2         2  0.108681  0.109839  0.113774  0.117101  0.119068  0.120834   \n",
       "3         3  0.127586  0.120198  0.114211  0.110567  0.109458  0.112735   \n",
       "4         4  0.095347  0.095927  0.098766  0.103254  0.109537  0.115701   \n",
       "\n",
       "      band7     band8     band9  ...   band352   band353   band354   band355  \\\n",
       "0  0.118139  0.118768  0.118964  ... -0.321490 -0.455935 -0.467314 -0.123038   \n",
       "1  0.115088  0.116210  0.118767  ... -0.255321 -0.368646 -0.393768 -0.081815   \n",
       "2  0.121657  0.121627  0.121650  ... -0.600094 -0.757896 -0.711437 -0.289917   \n",
       "3  0.118176  0.119415  0.121006  ... -0.105756 -0.119838 -0.210905  0.143527   \n",
       "4  0.123573  0.126196  0.124234  ... -0.160474 -0.226066 -0.335191  0.154934   \n",
       "\n",
       "    band356   band357   band358   band359   band360  target  \n",
       "0  0.215500  0.501770  0.253342  0.148561 -0.021121     0.0  \n",
       "1  0.233525  0.526591  0.377525  0.336791  0.198253     0.0  \n",
       "2  0.168186  0.627783  0.482006  0.383744  0.207901     0.0  \n",
       "3  0.441095  0.709301  0.618201  0.509158  0.368789     0.0  \n",
       "4  0.598158  0.869417  0.712456  0.529970  0.238561     0.0  \n",
       "\n",
       "[5 rows x 362 columns]"
      ]
     },
     "execution_count": 10,
     "metadata": {},
     "output_type": "execute_result"
    }
   ],
   "source": [
    "print('First 5 data in the train dataset:')\n",
    "train_df.head()"
   ]
  },
  {
   "cell_type": "code",
   "execution_count": 11,
   "id": "84193a3b",
   "metadata": {
    "_kg_hide-input": true,
    "execution": {
     "iopub.execute_input": "2022-08-17T08:55:37.878340Z",
     "iopub.status.busy": "2022-08-17T08:55:37.877948Z",
     "iopub.status.idle": "2022-08-17T08:55:37.905553Z",
     "shell.execute_reply": "2022-08-17T08:55:37.904156Z"
    },
    "papermill": {
     "duration": 0.043711,
     "end_time": "2022-08-17T08:55:37.908468",
     "exception": false,
     "start_time": "2022-08-17T08:55:37.864757",
     "status": "completed"
    },
    "tags": []
   },
   "outputs": [
    {
     "name": "stdout",
     "output_type": "stream",
     "text": [
      "First 5 data in the test dataset:\n"
     ]
    },
    {
     "data": {
      "text/html": [
       "<div>\n",
       "<style scoped>\n",
       "    .dataframe tbody tr th:only-of-type {\n",
       "        vertical-align: middle;\n",
       "    }\n",
       "\n",
       "    .dataframe tbody tr th {\n",
       "        vertical-align: top;\n",
       "    }\n",
       "\n",
       "    .dataframe thead th {\n",
       "        text-align: right;\n",
       "    }\n",
       "</style>\n",
       "<table border=\"1\" class=\"dataframe\">\n",
       "  <thead>\n",
       "    <tr style=\"text-align: right;\">\n",
       "      <th></th>\n",
       "      <th>pixel_id</th>\n",
       "      <th>band1</th>\n",
       "      <th>band2</th>\n",
       "      <th>band3</th>\n",
       "      <th>band4</th>\n",
       "      <th>band5</th>\n",
       "      <th>band6</th>\n",
       "      <th>band7</th>\n",
       "      <th>band8</th>\n",
       "      <th>band9</th>\n",
       "      <th>...</th>\n",
       "      <th>band351</th>\n",
       "      <th>band352</th>\n",
       "      <th>band353</th>\n",
       "      <th>band354</th>\n",
       "      <th>band355</th>\n",
       "      <th>band356</th>\n",
       "      <th>band357</th>\n",
       "      <th>band358</th>\n",
       "      <th>band359</th>\n",
       "      <th>band360</th>\n",
       "    </tr>\n",
       "  </thead>\n",
       "  <tbody>\n",
       "    <tr>\n",
       "      <th>0</th>\n",
       "      <td>0</td>\n",
       "      <td>0.133389</td>\n",
       "      <td>0.129491</td>\n",
       "      <td>0.126459</td>\n",
       "      <td>0.124272</td>\n",
       "      <td>0.124178</td>\n",
       "      <td>0.126550</td>\n",
       "      <td>0.127879</td>\n",
       "      <td>0.128428</td>\n",
       "      <td>0.129753</td>\n",
       "      <td>...</td>\n",
       "      <td>-0.110739</td>\n",
       "      <td>-0.211382</td>\n",
       "      <td>-0.335115</td>\n",
       "      <td>-0.479695</td>\n",
       "      <td>0.006043</td>\n",
       "      <td>0.436961</td>\n",
       "      <td>0.765480</td>\n",
       "      <td>0.724100</td>\n",
       "      <td>0.705523</td>\n",
       "      <td>0.524162</td>\n",
       "    </tr>\n",
       "    <tr>\n",
       "      <th>1</th>\n",
       "      <td>1</td>\n",
       "      <td>0.128174</td>\n",
       "      <td>0.128466</td>\n",
       "      <td>0.129490</td>\n",
       "      <td>0.129316</td>\n",
       "      <td>0.127310</td>\n",
       "      <td>0.123222</td>\n",
       "      <td>0.125130</td>\n",
       "      <td>0.124590</td>\n",
       "      <td>0.124309</td>\n",
       "      <td>...</td>\n",
       "      <td>-0.192084</td>\n",
       "      <td>-0.356316</td>\n",
       "      <td>-0.493620</td>\n",
       "      <td>-0.511466</td>\n",
       "      <td>-0.215836</td>\n",
       "      <td>0.122240</td>\n",
       "      <td>0.427564</td>\n",
       "      <td>0.371376</td>\n",
       "      <td>0.209782</td>\n",
       "      <td>0.018533</td>\n",
       "    </tr>\n",
       "    <tr>\n",
       "      <th>2</th>\n",
       "      <td>2</td>\n",
       "      <td>0.130374</td>\n",
       "      <td>0.128294</td>\n",
       "      <td>0.127120</td>\n",
       "      <td>0.125729</td>\n",
       "      <td>0.125745</td>\n",
       "      <td>0.123653</td>\n",
       "      <td>0.125633</td>\n",
       "      <td>0.128435</td>\n",
       "      <td>0.128574</td>\n",
       "      <td>...</td>\n",
       "      <td>-0.146008</td>\n",
       "      <td>-0.232602</td>\n",
       "      <td>-0.297574</td>\n",
       "      <td>-0.343908</td>\n",
       "      <td>0.014260</td>\n",
       "      <td>0.327855</td>\n",
       "      <td>0.601620</td>\n",
       "      <td>0.573348</td>\n",
       "      <td>0.525252</td>\n",
       "      <td>0.387948</td>\n",
       "    </tr>\n",
       "    <tr>\n",
       "      <th>3</th>\n",
       "      <td>3</td>\n",
       "      <td>0.116920</td>\n",
       "      <td>0.111982</td>\n",
       "      <td>0.110926</td>\n",
       "      <td>0.113348</td>\n",
       "      <td>0.117537</td>\n",
       "      <td>0.123360</td>\n",
       "      <td>0.130536</td>\n",
       "      <td>0.132629</td>\n",
       "      <td>0.131570</td>\n",
       "      <td>...</td>\n",
       "      <td>-0.155472</td>\n",
       "      <td>-0.254321</td>\n",
       "      <td>-0.352334</td>\n",
       "      <td>-0.438248</td>\n",
       "      <td>-0.018240</td>\n",
       "      <td>0.338860</td>\n",
       "      <td>0.655980</td>\n",
       "      <td>0.591076</td>\n",
       "      <td>0.555939</td>\n",
       "      <td>0.409419</td>\n",
       "    </tr>\n",
       "    <tr>\n",
       "      <th>4</th>\n",
       "      <td>4</td>\n",
       "      <td>0.122099</td>\n",
       "      <td>0.120759</td>\n",
       "      <td>0.121411</td>\n",
       "      <td>0.123659</td>\n",
       "      <td>0.127483</td>\n",
       "      <td>0.131937</td>\n",
       "      <td>0.133688</td>\n",
       "      <td>0.132425</td>\n",
       "      <td>0.130738</td>\n",
       "      <td>...</td>\n",
       "      <td>-0.253065</td>\n",
       "      <td>-0.334190</td>\n",
       "      <td>-0.418588</td>\n",
       "      <td>-0.453047</td>\n",
       "      <td>-0.174258</td>\n",
       "      <td>0.135369</td>\n",
       "      <td>0.462718</td>\n",
       "      <td>0.414162</td>\n",
       "      <td>0.426901</td>\n",
       "      <td>0.412649</td>\n",
       "    </tr>\n",
       "  </tbody>\n",
       "</table>\n",
       "<p>5 rows × 361 columns</p>\n",
       "</div>"
      ],
      "text/plain": [
       "   pixel_id     band1     band2     band3     band4     band5     band6  \\\n",
       "0         0  0.133389  0.129491  0.126459  0.124272  0.124178  0.126550   \n",
       "1         1  0.128174  0.128466  0.129490  0.129316  0.127310  0.123222   \n",
       "2         2  0.130374  0.128294  0.127120  0.125729  0.125745  0.123653   \n",
       "3         3  0.116920  0.111982  0.110926  0.113348  0.117537  0.123360   \n",
       "4         4  0.122099  0.120759  0.121411  0.123659  0.127483  0.131937   \n",
       "\n",
       "      band7     band8     band9  ...   band351   band352   band353   band354  \\\n",
       "0  0.127879  0.128428  0.129753  ... -0.110739 -0.211382 -0.335115 -0.479695   \n",
       "1  0.125130  0.124590  0.124309  ... -0.192084 -0.356316 -0.493620 -0.511466   \n",
       "2  0.125633  0.128435  0.128574  ... -0.146008 -0.232602 -0.297574 -0.343908   \n",
       "3  0.130536  0.132629  0.131570  ... -0.155472 -0.254321 -0.352334 -0.438248   \n",
       "4  0.133688  0.132425  0.130738  ... -0.253065 -0.334190 -0.418588 -0.453047   \n",
       "\n",
       "    band355   band356   band357   band358   band359   band360  \n",
       "0  0.006043  0.436961  0.765480  0.724100  0.705523  0.524162  \n",
       "1 -0.215836  0.122240  0.427564  0.371376  0.209782  0.018533  \n",
       "2  0.014260  0.327855  0.601620  0.573348  0.525252  0.387948  \n",
       "3 -0.018240  0.338860  0.655980  0.591076  0.555939  0.409419  \n",
       "4 -0.174258  0.135369  0.462718  0.414162  0.426901  0.412649  \n",
       "\n",
       "[5 rows x 361 columns]"
      ]
     },
     "execution_count": 11,
     "metadata": {},
     "output_type": "execute_result"
    }
   ],
   "source": [
    "print('First 5 data in the test dataset:')\n",
    "test_df.head()"
   ]
  },
  {
   "cell_type": "code",
   "execution_count": 12,
   "id": "e55180f0",
   "metadata": {
    "_kg_hide-input": true,
    "execution": {
     "iopub.execute_input": "2022-08-17T08:55:37.935844Z",
     "iopub.status.busy": "2022-08-17T08:55:37.935433Z",
     "iopub.status.idle": "2022-08-17T08:55:37.957328Z",
     "shell.execute_reply": "2022-08-17T08:55:37.955965Z"
    },
    "papermill": {
     "duration": 0.038242,
     "end_time": "2022-08-17T08:55:37.959869",
     "exception": false,
     "start_time": "2022-08-17T08:55:37.921627",
     "status": "completed"
    },
    "tags": []
   },
   "outputs": [
    {
     "name": "stdout",
     "output_type": "stream",
     "text": [
      "Missing value in train dataset: 0\n",
      "Missing value in test dataset: 0\n"
     ]
    }
   ],
   "source": [
    "print('Missing value in train dataset:', sum(train_df.isnull().sum()))\n",
    "print('Missing value in test dataset:', sum(test_df.isnull().sum()))"
   ]
  },
  {
   "cell_type": "code",
   "execution_count": 13,
   "id": "c5125598",
   "metadata": {
    "_kg_hide-input": true,
    "execution": {
     "iopub.execute_input": "2022-08-17T08:55:37.986495Z",
     "iopub.status.busy": "2022-08-17T08:55:37.986072Z",
     "iopub.status.idle": "2022-08-17T08:55:38.785159Z",
     "shell.execute_reply": "2022-08-17T08:55:38.783999Z"
    },
    "papermill": {
     "duration": 0.815203,
     "end_time": "2022-08-17T08:55:38.787560",
     "exception": false,
     "start_time": "2022-08-17T08:55:37.972357",
     "status": "completed"
    },
    "tags": []
   },
   "outputs": [
    {
     "name": "stdout",
     "output_type": "stream",
     "text": [
      "Statistics on Train dataset\n"
     ]
    },
    {
     "data": {
      "text/html": [
       "<div>\n",
       "<style scoped>\n",
       "    .dataframe tbody tr th:only-of-type {\n",
       "        vertical-align: middle;\n",
       "    }\n",
       "\n",
       "    .dataframe tbody tr th {\n",
       "        vertical-align: top;\n",
       "    }\n",
       "\n",
       "    .dataframe thead th {\n",
       "        text-align: right;\n",
       "    }\n",
       "</style>\n",
       "<table border=\"1\" class=\"dataframe\">\n",
       "  <thead>\n",
       "    <tr style=\"text-align: right;\">\n",
       "      <th></th>\n",
       "      <th>pixel_id</th>\n",
       "      <th>band1</th>\n",
       "      <th>band2</th>\n",
       "      <th>band3</th>\n",
       "      <th>band4</th>\n",
       "      <th>band5</th>\n",
       "      <th>band6</th>\n",
       "      <th>band7</th>\n",
       "      <th>band8</th>\n",
       "      <th>band9</th>\n",
       "      <th>...</th>\n",
       "      <th>band352</th>\n",
       "      <th>band353</th>\n",
       "      <th>band354</th>\n",
       "      <th>band355</th>\n",
       "      <th>band356</th>\n",
       "      <th>band357</th>\n",
       "      <th>band358</th>\n",
       "      <th>band359</th>\n",
       "      <th>band360</th>\n",
       "      <th>target</th>\n",
       "    </tr>\n",
       "  </thead>\n",
       "  <tbody>\n",
       "    <tr>\n",
       "      <th>count</th>\n",
       "      <td>6132.000000</td>\n",
       "      <td>6132.000000</td>\n",
       "      <td>6132.000000</td>\n",
       "      <td>6132.000000</td>\n",
       "      <td>6132.000000</td>\n",
       "      <td>6132.000000</td>\n",
       "      <td>6132.000000</td>\n",
       "      <td>6132.000000</td>\n",
       "      <td>6132.000000</td>\n",
       "      <td>6132.000000</td>\n",
       "      <td>...</td>\n",
       "      <td>6132.000000</td>\n",
       "      <td>6132.000000</td>\n",
       "      <td>6132.000000</td>\n",
       "      <td>6132.000000</td>\n",
       "      <td>6132.000000</td>\n",
       "      <td>6132.000000</td>\n",
       "      <td>6132.000000</td>\n",
       "      <td>6132.000000</td>\n",
       "      <td>6132.000000</td>\n",
       "      <td>6132.000000</td>\n",
       "    </tr>\n",
       "    <tr>\n",
       "      <th>mean</th>\n",
       "      <td>3065.500000</td>\n",
       "      <td>0.075330</td>\n",
       "      <td>0.073588</td>\n",
       "      <td>0.073444</td>\n",
       "      <td>0.073311</td>\n",
       "      <td>0.074133</td>\n",
       "      <td>0.074820</td>\n",
       "      <td>0.077431</td>\n",
       "      <td>0.077625</td>\n",
       "      <td>0.077975</td>\n",
       "      <td>...</td>\n",
       "      <td>-0.506421</td>\n",
       "      <td>-0.661588</td>\n",
       "      <td>-0.694983</td>\n",
       "      <td>-0.288007</td>\n",
       "      <td>0.142555</td>\n",
       "      <td>0.568806</td>\n",
       "      <td>0.544273</td>\n",
       "      <td>0.427080</td>\n",
       "      <td>0.252980</td>\n",
       "      <td>0.014188</td>\n",
       "    </tr>\n",
       "    <tr>\n",
       "      <th>std</th>\n",
       "      <td>1770.300257</td>\n",
       "      <td>0.045787</td>\n",
       "      <td>0.045573</td>\n",
       "      <td>0.045861</td>\n",
       "      <td>0.046715</td>\n",
       "      <td>0.047656</td>\n",
       "      <td>0.048495</td>\n",
       "      <td>0.049126</td>\n",
       "      <td>0.049798</td>\n",
       "      <td>0.050421</td>\n",
       "      <td>...</td>\n",
       "      <td>0.351728</td>\n",
       "      <td>0.427773</td>\n",
       "      <td>0.451036</td>\n",
       "      <td>0.285710</td>\n",
       "      <td>0.149101</td>\n",
       "      <td>0.179060</td>\n",
       "      <td>0.191623</td>\n",
       "      <td>0.164370</td>\n",
       "      <td>0.151557</td>\n",
       "      <td>0.153131</td>\n",
       "    </tr>\n",
       "    <tr>\n",
       "      <th>min</th>\n",
       "      <td>0.000000</td>\n",
       "      <td>-0.040960</td>\n",
       "      <td>-0.035109</td>\n",
       "      <td>-0.032527</td>\n",
       "      <td>-0.030980</td>\n",
       "      <td>-0.025551</td>\n",
       "      <td>-0.020990</td>\n",
       "      <td>-0.015994</td>\n",
       "      <td>-0.014670</td>\n",
       "      <td>-0.013370</td>\n",
       "      <td>...</td>\n",
       "      <td>-1.531799</td>\n",
       "      <td>-1.884109</td>\n",
       "      <td>-1.960408</td>\n",
       "      <td>-1.183417</td>\n",
       "      <td>-0.370799</td>\n",
       "      <td>-0.178498</td>\n",
       "      <td>-0.303005</td>\n",
       "      <td>-0.180396</td>\n",
       "      <td>-0.281824</td>\n",
       "      <td>0.000000</td>\n",
       "    </tr>\n",
       "    <tr>\n",
       "      <th>25%</th>\n",
       "      <td>1532.750000</td>\n",
       "      <td>0.046726</td>\n",
       "      <td>0.044999</td>\n",
       "      <td>0.042311</td>\n",
       "      <td>0.038552</td>\n",
       "      <td>0.035679</td>\n",
       "      <td>0.033688</td>\n",
       "      <td>0.035006</td>\n",
       "      <td>0.033795</td>\n",
       "      <td>0.032847</td>\n",
       "      <td>...</td>\n",
       "      <td>-0.725215</td>\n",
       "      <td>-0.932132</td>\n",
       "      <td>-0.989721</td>\n",
       "      <td>-0.469026</td>\n",
       "      <td>0.040421</td>\n",
       "      <td>0.461014</td>\n",
       "      <td>0.422895</td>\n",
       "      <td>0.323934</td>\n",
       "      <td>0.158634</td>\n",
       "      <td>0.000000</td>\n",
       "    </tr>\n",
       "    <tr>\n",
       "      <th>50%</th>\n",
       "      <td>3065.500000</td>\n",
       "      <td>0.069249</td>\n",
       "      <td>0.066556</td>\n",
       "      <td>0.067095</td>\n",
       "      <td>0.068278</td>\n",
       "      <td>0.070536</td>\n",
       "      <td>0.072083</td>\n",
       "      <td>0.075147</td>\n",
       "      <td>0.075668</td>\n",
       "      <td>0.076249</td>\n",
       "      <td>...</td>\n",
       "      <td>-0.494714</td>\n",
       "      <td>-0.646262</td>\n",
       "      <td>-0.682090</td>\n",
       "      <td>-0.279609</td>\n",
       "      <td>0.141783</td>\n",
       "      <td>0.581617</td>\n",
       "      <td>0.560361</td>\n",
       "      <td>0.436014</td>\n",
       "      <td>0.248939</td>\n",
       "      <td>0.000000</td>\n",
       "    </tr>\n",
       "    <tr>\n",
       "      <th>75%</th>\n",
       "      <td>4598.250000</td>\n",
       "      <td>0.109352</td>\n",
       "      <td>0.108719</td>\n",
       "      <td>0.110035</td>\n",
       "      <td>0.111325</td>\n",
       "      <td>0.113196</td>\n",
       "      <td>0.114873</td>\n",
       "      <td>0.118144</td>\n",
       "      <td>0.118719</td>\n",
       "      <td>0.119445</td>\n",
       "      <td>...</td>\n",
       "      <td>-0.301852</td>\n",
       "      <td>-0.415225</td>\n",
       "      <td>-0.426901</td>\n",
       "      <td>-0.110821</td>\n",
       "      <td>0.242785</td>\n",
       "      <td>0.691797</td>\n",
       "      <td>0.680358</td>\n",
       "      <td>0.537995</td>\n",
       "      <td>0.341676</td>\n",
       "      <td>0.000000</td>\n",
       "    </tr>\n",
       "    <tr>\n",
       "      <th>max</th>\n",
       "      <td>6131.000000</td>\n",
       "      <td>0.406770</td>\n",
       "      <td>0.404988</td>\n",
       "      <td>0.411459</td>\n",
       "      <td>0.421906</td>\n",
       "      <td>0.438102</td>\n",
       "      <td>0.457020</td>\n",
       "      <td>0.472306</td>\n",
       "      <td>0.480699</td>\n",
       "      <td>0.489834</td>\n",
       "      <td>...</td>\n",
       "      <td>1.152352</td>\n",
       "      <td>1.331175</td>\n",
       "      <td>1.327365</td>\n",
       "      <td>1.022704</td>\n",
       "      <td>0.743773</td>\n",
       "      <td>1.067587</td>\n",
       "      <td>1.125889</td>\n",
       "      <td>1.016698</td>\n",
       "      <td>0.981617</td>\n",
       "      <td>2.000000</td>\n",
       "    </tr>\n",
       "  </tbody>\n",
       "</table>\n",
       "<p>8 rows × 362 columns</p>\n",
       "</div>"
      ],
      "text/plain": [
       "          pixel_id        band1        band2        band3        band4  \\\n",
       "count  6132.000000  6132.000000  6132.000000  6132.000000  6132.000000   \n",
       "mean   3065.500000     0.075330     0.073588     0.073444     0.073311   \n",
       "std    1770.300257     0.045787     0.045573     0.045861     0.046715   \n",
       "min       0.000000    -0.040960    -0.035109    -0.032527    -0.030980   \n",
       "25%    1532.750000     0.046726     0.044999     0.042311     0.038552   \n",
       "50%    3065.500000     0.069249     0.066556     0.067095     0.068278   \n",
       "75%    4598.250000     0.109352     0.108719     0.110035     0.111325   \n",
       "max    6131.000000     0.406770     0.404988     0.411459     0.421906   \n",
       "\n",
       "             band5        band6        band7        band8        band9  ...  \\\n",
       "count  6132.000000  6132.000000  6132.000000  6132.000000  6132.000000  ...   \n",
       "mean      0.074133     0.074820     0.077431     0.077625     0.077975  ...   \n",
       "std       0.047656     0.048495     0.049126     0.049798     0.050421  ...   \n",
       "min      -0.025551    -0.020990    -0.015994    -0.014670    -0.013370  ...   \n",
       "25%       0.035679     0.033688     0.035006     0.033795     0.032847  ...   \n",
       "50%       0.070536     0.072083     0.075147     0.075668     0.076249  ...   \n",
       "75%       0.113196     0.114873     0.118144     0.118719     0.119445  ...   \n",
       "max       0.438102     0.457020     0.472306     0.480699     0.489834  ...   \n",
       "\n",
       "           band352      band353      band354      band355      band356  \\\n",
       "count  6132.000000  6132.000000  6132.000000  6132.000000  6132.000000   \n",
       "mean     -0.506421    -0.661588    -0.694983    -0.288007     0.142555   \n",
       "std       0.351728     0.427773     0.451036     0.285710     0.149101   \n",
       "min      -1.531799    -1.884109    -1.960408    -1.183417    -0.370799   \n",
       "25%      -0.725215    -0.932132    -0.989721    -0.469026     0.040421   \n",
       "50%      -0.494714    -0.646262    -0.682090    -0.279609     0.141783   \n",
       "75%      -0.301852    -0.415225    -0.426901    -0.110821     0.242785   \n",
       "max       1.152352     1.331175     1.327365     1.022704     0.743773   \n",
       "\n",
       "           band357      band358      band359      band360       target  \n",
       "count  6132.000000  6132.000000  6132.000000  6132.000000  6132.000000  \n",
       "mean      0.568806     0.544273     0.427080     0.252980     0.014188  \n",
       "std       0.179060     0.191623     0.164370     0.151557     0.153131  \n",
       "min      -0.178498    -0.303005    -0.180396    -0.281824     0.000000  \n",
       "25%       0.461014     0.422895     0.323934     0.158634     0.000000  \n",
       "50%       0.581617     0.560361     0.436014     0.248939     0.000000  \n",
       "75%       0.691797     0.680358     0.537995     0.341676     0.000000  \n",
       "max       1.067587     1.125889     1.016698     0.981617     2.000000  \n",
       "\n",
       "[8 rows x 362 columns]"
      ]
     },
     "execution_count": 13,
     "metadata": {},
     "output_type": "execute_result"
    }
   ],
   "source": [
    "print('Statistics on Train dataset')\n",
    "train_df.describe()"
   ]
  },
  {
   "cell_type": "code",
   "execution_count": 14,
   "id": "8f705716",
   "metadata": {
    "_kg_hide-input": true,
    "execution": {
     "iopub.execute_input": "2022-08-17T08:55:38.815197Z",
     "iopub.status.busy": "2022-08-17T08:55:38.814789Z",
     "iopub.status.idle": "2022-08-17T08:55:39.604503Z",
     "shell.execute_reply": "2022-08-17T08:55:39.603455Z"
    },
    "papermill": {
     "duration": 0.806344,
     "end_time": "2022-08-17T08:55:39.606952",
     "exception": false,
     "start_time": "2022-08-17T08:55:38.800608",
     "status": "completed"
    },
    "tags": []
   },
   "outputs": [
    {
     "name": "stdout",
     "output_type": "stream",
     "text": [
      "Statistics on Test dataset\n"
     ]
    },
    {
     "data": {
      "text/html": [
       "<div>\n",
       "<style scoped>\n",
       "    .dataframe tbody tr th:only-of-type {\n",
       "        vertical-align: middle;\n",
       "    }\n",
       "\n",
       "    .dataframe tbody tr th {\n",
       "        vertical-align: top;\n",
       "    }\n",
       "\n",
       "    .dataframe thead th {\n",
       "        text-align: right;\n",
       "    }\n",
       "</style>\n",
       "<table border=\"1\" class=\"dataframe\">\n",
       "  <thead>\n",
       "    <tr style=\"text-align: right;\">\n",
       "      <th></th>\n",
       "      <th>pixel_id</th>\n",
       "      <th>band1</th>\n",
       "      <th>band2</th>\n",
       "      <th>band3</th>\n",
       "      <th>band4</th>\n",
       "      <th>band5</th>\n",
       "      <th>band6</th>\n",
       "      <th>band7</th>\n",
       "      <th>band8</th>\n",
       "      <th>band9</th>\n",
       "      <th>...</th>\n",
       "      <th>band351</th>\n",
       "      <th>band352</th>\n",
       "      <th>band353</th>\n",
       "      <th>band354</th>\n",
       "      <th>band355</th>\n",
       "      <th>band356</th>\n",
       "      <th>band357</th>\n",
       "      <th>band358</th>\n",
       "      <th>band359</th>\n",
       "      <th>band360</th>\n",
       "    </tr>\n",
       "  </thead>\n",
       "  <tbody>\n",
       "    <tr>\n",
       "      <th>count</th>\n",
       "      <td>6132.000000</td>\n",
       "      <td>6132.000000</td>\n",
       "      <td>6132.000000</td>\n",
       "      <td>6132.000000</td>\n",
       "      <td>6132.000000</td>\n",
       "      <td>6132.000000</td>\n",
       "      <td>6132.000000</td>\n",
       "      <td>6132.000000</td>\n",
       "      <td>6132.000000</td>\n",
       "      <td>6132.000000</td>\n",
       "      <td>...</td>\n",
       "      <td>6132.000000</td>\n",
       "      <td>6132.000000</td>\n",
       "      <td>6132.000000</td>\n",
       "      <td>6132.000000</td>\n",
       "      <td>6132.000000</td>\n",
       "      <td>6132.000000</td>\n",
       "      <td>6132.000000</td>\n",
       "      <td>6132.000000</td>\n",
       "      <td>6132.000000</td>\n",
       "      <td>6132.000000</td>\n",
       "    </tr>\n",
       "    <tr>\n",
       "      <th>mean</th>\n",
       "      <td>3065.500000</td>\n",
       "      <td>0.054690</td>\n",
       "      <td>0.052678</td>\n",
       "      <td>0.052155</td>\n",
       "      <td>0.051545</td>\n",
       "      <td>0.051961</td>\n",
       "      <td>0.052236</td>\n",
       "      <td>0.054572</td>\n",
       "      <td>0.054464</td>\n",
       "      <td>0.054626</td>\n",
       "      <td>...</td>\n",
       "      <td>-0.468838</td>\n",
       "      <td>-0.714221</td>\n",
       "      <td>-0.900777</td>\n",
       "      <td>-0.931114</td>\n",
       "      <td>-0.442336</td>\n",
       "      <td>0.076535</td>\n",
       "      <td>0.611655</td>\n",
       "      <td>0.618039</td>\n",
       "      <td>0.504685</td>\n",
       "      <td>0.331072</td>\n",
       "    </tr>\n",
       "    <tr>\n",
       "      <th>std</th>\n",
       "      <td>1770.300257</td>\n",
       "      <td>0.048157</td>\n",
       "      <td>0.047140</td>\n",
       "      <td>0.046500</td>\n",
       "      <td>0.046493</td>\n",
       "      <td>0.046837</td>\n",
       "      <td>0.047507</td>\n",
       "      <td>0.048083</td>\n",
       "      <td>0.048738</td>\n",
       "      <td>0.049340</td>\n",
       "      <td>...</td>\n",
       "      <td>0.307334</td>\n",
       "      <td>0.419549</td>\n",
       "      <td>0.500634</td>\n",
       "      <td>0.517352</td>\n",
       "      <td>0.331038</td>\n",
       "      <td>0.158493</td>\n",
       "      <td>0.177893</td>\n",
       "      <td>0.190719</td>\n",
       "      <td>0.169980</td>\n",
       "      <td>0.176431</td>\n",
       "    </tr>\n",
       "    <tr>\n",
       "      <th>min</th>\n",
       "      <td>0.000000</td>\n",
       "      <td>-0.040616</td>\n",
       "      <td>-0.036327</td>\n",
       "      <td>-0.029601</td>\n",
       "      <td>-0.024035</td>\n",
       "      <td>-0.020758</td>\n",
       "      <td>-0.018984</td>\n",
       "      <td>-0.014286</td>\n",
       "      <td>-0.014298</td>\n",
       "      <td>-0.013908</td>\n",
       "      <td>...</td>\n",
       "      <td>-1.118433</td>\n",
       "      <td>-1.552332</td>\n",
       "      <td>-1.874039</td>\n",
       "      <td>-1.938426</td>\n",
       "      <td>-1.127865</td>\n",
       "      <td>-0.398156</td>\n",
       "      <td>-0.081663</td>\n",
       "      <td>-0.181308</td>\n",
       "      <td>-0.175215</td>\n",
       "      <td>-0.205007</td>\n",
       "    </tr>\n",
       "    <tr>\n",
       "      <th>25%</th>\n",
       "      <td>1532.750000</td>\n",
       "      <td>0.023105</td>\n",
       "      <td>0.022835</td>\n",
       "      <td>0.024281</td>\n",
       "      <td>0.024808</td>\n",
       "      <td>0.025793</td>\n",
       "      <td>0.025408</td>\n",
       "      <td>0.026646</td>\n",
       "      <td>0.025249</td>\n",
       "      <td>0.024341</td>\n",
       "      <td>...</td>\n",
       "      <td>-0.700998</td>\n",
       "      <td>-1.030252</td>\n",
       "      <td>-1.275544</td>\n",
       "      <td>-1.318085</td>\n",
       "      <td>-0.692783</td>\n",
       "      <td>-0.032296</td>\n",
       "      <td>0.503813</td>\n",
       "      <td>0.503097</td>\n",
       "      <td>0.397993</td>\n",
       "      <td>0.207974</td>\n",
       "    </tr>\n",
       "    <tr>\n",
       "      <th>50%</th>\n",
       "      <td>3065.500000</td>\n",
       "      <td>0.045720</td>\n",
       "      <td>0.042165</td>\n",
       "      <td>0.040318</td>\n",
       "      <td>0.038111</td>\n",
       "      <td>0.037834</td>\n",
       "      <td>0.037743</td>\n",
       "      <td>0.040244</td>\n",
       "      <td>0.040207</td>\n",
       "      <td>0.040424</td>\n",
       "      <td>...</td>\n",
       "      <td>-0.555682</td>\n",
       "      <td>-0.837516</td>\n",
       "      <td>-1.055440</td>\n",
       "      <td>-1.093376</td>\n",
       "      <td>-0.532563</td>\n",
       "      <td>0.062703</td>\n",
       "      <td>0.629938</td>\n",
       "      <td>0.644111</td>\n",
       "      <td>0.508022</td>\n",
       "      <td>0.308452</td>\n",
       "    </tr>\n",
       "    <tr>\n",
       "      <th>75%</th>\n",
       "      <td>4598.250000</td>\n",
       "      <td>0.079325</td>\n",
       "      <td>0.075839</td>\n",
       "      <td>0.074705</td>\n",
       "      <td>0.073529</td>\n",
       "      <td>0.073053</td>\n",
       "      <td>0.072262</td>\n",
       "      <td>0.074064</td>\n",
       "      <td>0.073720</td>\n",
       "      <td>0.074201</td>\n",
       "      <td>...</td>\n",
       "      <td>-0.235136</td>\n",
       "      <td>-0.392597</td>\n",
       "      <td>-0.524664</td>\n",
       "      <td>-0.539762</td>\n",
       "      <td>-0.200091</td>\n",
       "      <td>0.175543</td>\n",
       "      <td>0.734123</td>\n",
       "      <td>0.753124</td>\n",
       "      <td>0.618123</td>\n",
       "      <td>0.433732</td>\n",
       "    </tr>\n",
       "    <tr>\n",
       "      <th>max</th>\n",
       "      <td>6131.000000</td>\n",
       "      <td>0.448911</td>\n",
       "      <td>0.434516</td>\n",
       "      <td>0.443406</td>\n",
       "      <td>0.473379</td>\n",
       "      <td>0.508095</td>\n",
       "      <td>0.545052</td>\n",
       "      <td>0.569155</td>\n",
       "      <td>0.585742</td>\n",
       "      <td>0.599059</td>\n",
       "      <td>...</td>\n",
       "      <td>0.808790</td>\n",
       "      <td>0.981209</td>\n",
       "      <td>1.271875</td>\n",
       "      <td>1.365891</td>\n",
       "      <td>1.037922</td>\n",
       "      <td>0.680037</td>\n",
       "      <td>1.126296</td>\n",
       "      <td>1.137589</td>\n",
       "      <td>1.033350</td>\n",
       "      <td>0.916004</td>\n",
       "    </tr>\n",
       "  </tbody>\n",
       "</table>\n",
       "<p>8 rows × 361 columns</p>\n",
       "</div>"
      ],
      "text/plain": [
       "          pixel_id        band1        band2        band3        band4  \\\n",
       "count  6132.000000  6132.000000  6132.000000  6132.000000  6132.000000   \n",
       "mean   3065.500000     0.054690     0.052678     0.052155     0.051545   \n",
       "std    1770.300257     0.048157     0.047140     0.046500     0.046493   \n",
       "min       0.000000    -0.040616    -0.036327    -0.029601    -0.024035   \n",
       "25%    1532.750000     0.023105     0.022835     0.024281     0.024808   \n",
       "50%    3065.500000     0.045720     0.042165     0.040318     0.038111   \n",
       "75%    4598.250000     0.079325     0.075839     0.074705     0.073529   \n",
       "max    6131.000000     0.448911     0.434516     0.443406     0.473379   \n",
       "\n",
       "             band5        band6        band7        band8        band9  ...  \\\n",
       "count  6132.000000  6132.000000  6132.000000  6132.000000  6132.000000  ...   \n",
       "mean      0.051961     0.052236     0.054572     0.054464     0.054626  ...   \n",
       "std       0.046837     0.047507     0.048083     0.048738     0.049340  ...   \n",
       "min      -0.020758    -0.018984    -0.014286    -0.014298    -0.013908  ...   \n",
       "25%       0.025793     0.025408     0.026646     0.025249     0.024341  ...   \n",
       "50%       0.037834     0.037743     0.040244     0.040207     0.040424  ...   \n",
       "75%       0.073053     0.072262     0.074064     0.073720     0.074201  ...   \n",
       "max       0.508095     0.545052     0.569155     0.585742     0.599059  ...   \n",
       "\n",
       "           band351      band352      band353      band354      band355  \\\n",
       "count  6132.000000  6132.000000  6132.000000  6132.000000  6132.000000   \n",
       "mean     -0.468838    -0.714221    -0.900777    -0.931114    -0.442336   \n",
       "std       0.307334     0.419549     0.500634     0.517352     0.331038   \n",
       "min      -1.118433    -1.552332    -1.874039    -1.938426    -1.127865   \n",
       "25%      -0.700998    -1.030252    -1.275544    -1.318085    -0.692783   \n",
       "50%      -0.555682    -0.837516    -1.055440    -1.093376    -0.532563   \n",
       "75%      -0.235136    -0.392597    -0.524664    -0.539762    -0.200091   \n",
       "max       0.808790     0.981209     1.271875     1.365891     1.037922   \n",
       "\n",
       "           band356      band357      band358      band359      band360  \n",
       "count  6132.000000  6132.000000  6132.000000  6132.000000  6132.000000  \n",
       "mean      0.076535     0.611655     0.618039     0.504685     0.331072  \n",
       "std       0.158493     0.177893     0.190719     0.169980     0.176431  \n",
       "min      -0.398156    -0.081663    -0.181308    -0.175215    -0.205007  \n",
       "25%      -0.032296     0.503813     0.503097     0.397993     0.207974  \n",
       "50%       0.062703     0.629938     0.644111     0.508022     0.308452  \n",
       "75%       0.175543     0.734123     0.753124     0.618123     0.433732  \n",
       "max       0.680037     1.126296     1.137589     1.033350     0.916004  \n",
       "\n",
       "[8 rows x 361 columns]"
      ]
     },
     "execution_count": 14,
     "metadata": {},
     "output_type": "execute_result"
    }
   ],
   "source": [
    "print('Statistics on Test dataset')\n",
    "test_df.describe()"
   ]
  },
  {
   "cell_type": "code",
   "execution_count": 15,
   "id": "7bb9b761",
   "metadata": {
    "_kg_hide-input": true,
    "execution": {
     "iopub.execute_input": "2022-08-17T08:55:39.635344Z",
     "iopub.status.busy": "2022-08-17T08:55:39.634942Z",
     "iopub.status.idle": "2022-08-17T08:55:41.159574Z",
     "shell.execute_reply": "2022-08-17T08:55:41.158255Z"
    },
    "papermill": {
     "duration": 1.541707,
     "end_time": "2022-08-17T08:55:41.162041",
     "exception": false,
     "start_time": "2022-08-17T08:55:39.620334",
     "status": "completed"
    },
    "tags": []
   },
   "outputs": [
    {
     "data": {
      "image/png": "[encoded data removed]",
      "text/plain": [
       "<Figure size 864x864 with 16 Axes>"
      ]
     },
     "metadata": {},
     "output_type": "display_data"
    }
   ],
   "source": [
    "fig = plt.figure(figsize=(12, 12), facecolor='#f6f6f6')\n",
    "gs = fig.add_gridspec(4, 4)\n",
    "gs.update(wspace=0.1, hspace=0.4)\n",
    "\n",
    "background_color = \"#f6f6f6\"\n",
    "\n",
    "run_no = 0\n",
    "for row in range(0, 4):\n",
    "    for col in range(0, 4):\n",
    "        locals()[\"ax\"+str(run_no)] = fig.add_subplot(gs[row, col])\n",
    "        locals()[\"ax\"+str(run_no)].set_facecolor(background_color)\n",
    "        locals()[\"ax\"+str(run_no)].tick_params(axis='y', left=False)\n",
    "        locals()[\"ax\"+str(run_no)].get_yaxis().set_visible(False)\n",
    "        for s in [\"top\",\"right\",\"left\"]:\n",
    "            locals()[\"ax\"+str(run_no)].spines[s].set_visible(False)\n",
    "        run_no += 1\n",
    "\n",
    "run_no = 0\n",
    "for feature in features[0:15]:\n",
    "        sns.kdeplot(train_df[feature] ,ax=locals()[\"ax\"+str(run_no)], color='#ffd514', shade=True, linewidth=1.5, alpha=0.9, zorder=3, legend=False)\n",
    "        locals()[\"ax\"+str(run_no)].grid(which='major', axis='x', zorder=0, color='gray', linestyle=':', dashes=(1,5))\n",
    "        locals()[\"ax\"+str(run_no)].set_xlabel(feature)\n",
    "        run_no += 1\n",
    "        \n"
   ]
  },
  {
   "cell_type": "code",
   "execution_count": 16,
   "id": "c540a642",
   "metadata": {
    "_kg_hide-input": true,
    "execution": {
     "iopub.execute_input": "2022-08-17T08:55:41.193438Z",
     "iopub.status.busy": "2022-08-17T08:55:41.193023Z",
     "iopub.status.idle": "2022-08-17T08:55:41.370215Z",
     "shell.execute_reply": "2022-08-17T08:55:41.369107Z"
    },
    "papermill": {
     "duration": 0.195445,
     "end_time": "2022-08-17T08:55:41.372444",
     "exception": false,
     "start_time": "2022-08-17T08:55:41.176999",
     "status": "completed"
    },
    "tags": []
   },
   "outputs": [
    {
     "data": {
      "text/plain": [
       "Text(0.5, 0, 'target')"
      ]
     },
     "execution_count": 16,
     "metadata": {},
     "output_type": "execute_result"
    },
    {
     "data": {
      "image/png": "[encoded data removed]",
      "text/plain": [
       "<Figure size 540x288 with 1 Axes>"
      ]
     },
     "metadata": {},
     "output_type": "display_data"
    }
   ],
   "source": [
    "fig = plt.figure(figsize=(7.5, 4), facecolor='#f6f6f6')\n",
    "gs = fig.add_gridspec(1, 1)\n",
    "ax0 = fig.add_subplot(gs[0, 0])\n",
    "sns.kdeplot(train_df['target'], ax=ax0, color='#ffd514', shade=True, linewidth=1.5, alpha=0.9, zorder=3, legend=False)\n",
    "ax0.grid(which='major', axis='x', zorder=0, color='gray', linestyle=':', dashes=(1,5))\n",
    "ax0.set_xlabel('target')\n",
    "\n"
   ]
  },
  {
   "cell_type": "code",
   "execution_count": 17,
   "id": "16621dc4",
   "metadata": {
    "_kg_hide-input": true,
    "execution": {
     "iopub.execute_input": "2022-08-17T08:55:41.405104Z",
     "iopub.status.busy": "2022-08-17T08:55:41.404742Z",
     "iopub.status.idle": "2022-08-17T08:55:42.954479Z",
     "shell.execute_reply": "2022-08-17T08:55:42.953337Z"
    },
    "papermill": {
     "duration": 1.569202,
     "end_time": "2022-08-17T08:55:42.957176",
     "exception": false,
     "start_time": "2022-08-17T08:55:41.387974",
     "status": "completed"
    },
    "tags": []
   },
   "outputs": [
    {
     "data": {
      "image/png": "[encoded data removed]",
      "text/plain": [
       "<Figure size 864x864 with 16 Axes>"
      ]
     },
     "metadata": {},
     "output_type": "display_data"
    }
   ],
   "source": [
    "fig = plt.figure(figsize=(12, 12), facecolor='#f6f6f6')\n",
    "gs = fig.add_gridspec(4, 4)\n",
    "gs.update(wspace=0.1, hspace=0.4)\n",
    "\n",
    "background_color = \"#f6f6f6\"\n",
    "\n",
    "run_no = 0\n",
    "for row in range(0, 4):\n",
    "    for col in range(0, 4):\n",
    "        locals()[\"ax\"+str(run_no)] = fig.add_subplot(gs[row, col])\n",
    "        locals()[\"ax\"+str(run_no)].set_facecolor(background_color)\n",
    "        locals()[\"ax\"+str(run_no)].tick_params(axis='y', left=False)\n",
    "        locals()[\"ax\"+str(run_no)].get_yaxis().set_visible(False)\n",
    "        for s in [\"top\",\"right\",\"left\"]:\n",
    "            locals()[\"ax\"+str(run_no)].spines[s].set_visible(False)\n",
    "        run_no += 1\n",
    "\n",
    "run_no = 0\n",
    "for feature in features[0:15]:\n",
    "        sns.kdeplot(test_df[feature] ,ax=locals()[\"ax\"+str(run_no)], color='#ffd514', shade=True, linewidth=1.5, alpha=0.9, zorder=3, legend=False)\n",
    "        locals()[\"ax\"+str(run_no)].grid(which='major', axis='x', zorder=0, color='gray', linestyle=':', dashes=(1,5))\n",
    "        locals()[\"ax\"+str(run_no)].set_xlabel(feature)\n",
    "        run_no += 1\n",
    "        \n"
   ]
  },
  {
   "cell_type": "markdown",
   "id": "ca63547a",
   "metadata": {
    "papermill": {
     "duration": 0.016159,
     "end_time": "2022-08-17T08:55:42.990246",
     "exception": false,
     "start_time": "2022-08-17T08:55:42.974087",
     "status": "completed"
    },
    "tags": []
   },
   "source": [
    "<a id=\"simple_models\"></a>\n",
    "# 4. Simple Models\n"
   ]
  },
  {
   "cell_type": "markdown",
   "id": "029fdb2d",
   "metadata": {
    "papermill": {
     "duration": 0.016016,
     "end_time": "2022-08-17T08:55:43.022625",
     "exception": false,
     "start_time": "2022-08-17T08:55:43.006609",
     "status": "completed"
    },
    "tags": []
   },
   "source": [
    "<a id=\"random_forest\"></a>\n",
    "## Random Forest"
   ]
  },
  {
   "cell_type": "code",
   "execution_count": 18,
   "id": "8d50c3bb",
   "metadata": {
    "execution": {
     "iopub.execute_input": "2022-08-17T08:55:43.058231Z",
     "iopub.status.busy": "2022-08-17T08:55:43.057441Z",
     "iopub.status.idle": "2022-08-17T08:55:43.252848Z",
     "shell.execute_reply": "2022-08-17T08:55:43.251339Z"
    },
    "papermill": {
     "duration": 0.216258,
     "end_time": "2022-08-17T08:55:43.255590",
     "exception": false,
     "start_time": "2022-08-17T08:55:43.039332",
     "status": "completed"
    },
    "tags": []
   },
   "outputs": [
    {
     "name": "stdout",
     "output_type": "stream",
     "text": [
      "CPU times: user 181 ms, sys: 2.9 ms, total: 183 ms\n",
      "Wall time: 184 ms\n"
     ]
    },
    {
     "data": {
      "text/plain": [
       "RandomForestClassifier(random_state=42)"
      ]
     },
     "execution_count": 18,
     "metadata": {},
     "output_type": "execute_result"
    }
   ],
   "source": [
    "%%time\n",
    "forest_clf = RandomForestClassifier(random_state=42)\n",
    "forest_clf.fit(X_train_rus, y_train_rus)"
   ]
  },
  {
   "cell_type": "code",
   "execution_count": 19,
   "id": "21943021",
   "metadata": {
    "execution": {
     "iopub.execute_input": "2022-08-17T08:55:43.290382Z",
     "iopub.status.busy": "2022-08-17T08:55:43.289561Z",
     "iopub.status.idle": "2022-08-17T08:55:43.356693Z",
     "shell.execute_reply": "2022-08-17T08:55:43.355400Z"
    },
    "papermill": {
     "duration": 0.086855,
     "end_time": "2022-08-17T08:55:43.359052",
     "exception": false,
     "start_time": "2022-08-17T08:55:43.272197",
     "status": "completed"
    },
    "tags": []
   },
   "outputs": [
    {
     "name": "stdout",
     "output_type": "stream",
     "text": [
      "[0. 0. 0. ... 0. 0. 0.]\n"
     ]
    }
   ],
   "source": [
    "output = forest_clf.predict(X_test)\n",
    "print(output)"
   ]
  },
  {
   "cell_type": "code",
   "execution_count": 20,
   "id": "771861bc",
   "metadata": {
    "execution": {
     "iopub.execute_input": "2022-08-17T08:55:43.394633Z",
     "iopub.status.busy": "2022-08-17T08:55:43.393610Z",
     "iopub.status.idle": "2022-08-17T08:55:43.411272Z",
     "shell.execute_reply": "2022-08-17T08:55:43.410149Z"
    },
    "papermill": {
     "duration": 0.038413,
     "end_time": "2022-08-17T08:55:43.413946",
     "exception": false,
     "start_time": "2022-08-17T08:55:43.375533",
     "status": "completed"
    },
    "tags": []
   },
   "outputs": [],
   "source": [
    "pd.DataFrame(output).rename(columns={0: 'target'}).to_csv('submission_RF_rus.csv', index_label='pixel_id')"
   ]
  },
  {
   "cell_type": "code",
   "execution_count": 21,
   "id": "28296787",
   "metadata": {
    "execution": {
     "iopub.execute_input": "2022-08-17T08:55:43.448481Z",
     "iopub.status.busy": "2022-08-17T08:55:43.448078Z",
     "iopub.status.idle": "2022-08-17T08:55:43.471875Z",
     "shell.execute_reply": "2022-08-17T08:55:43.470715Z"
    },
    "papermill": {
     "duration": 0.043547,
     "end_time": "2022-08-17T08:55:43.474111",
     "exception": false,
     "start_time": "2022-08-17T08:55:43.430564",
     "status": "completed"
    },
    "tags": []
   },
   "outputs": [
    {
     "name": "stdout",
     "output_type": "stream",
     "text": [
      "[[29  0  0]\n",
      " [ 0 29  0]\n",
      " [ 0  0 29]]\n"
     ]
    }
   ],
   "source": [
    "M = confusion_matrix(forest_clf.predict(X_train_rus), y_train_rus)\n",
    "print(M)"
   ]
  },
  {
   "cell_type": "markdown",
   "id": "47a053ad",
   "metadata": {
    "papermill": {
     "duration": 0.016261,
     "end_time": "2022-08-17T08:55:43.507227",
     "exception": false,
     "start_time": "2022-08-17T08:55:43.490966",
     "status": "completed"
    },
    "tags": []
   },
   "source": [
    "<a id=\"lgbm\"></a>\n",
    "## LGBM"
   ]
  },
  {
   "cell_type": "code",
   "execution_count": 22,
   "id": "d46ada57",
   "metadata": {
    "execution": {
     "iopub.execute_input": "2022-08-17T08:55:43.542607Z",
     "iopub.status.busy": "2022-08-17T08:55:43.541925Z",
     "iopub.status.idle": "2022-08-17T08:55:43.796272Z",
     "shell.execute_reply": "2022-08-17T08:55:43.794896Z"
    },
    "papermill": {
     "duration": 0.274667,
     "end_time": "2022-08-17T08:55:43.798721",
     "exception": false,
     "start_time": "2022-08-17T08:55:43.524054",
     "status": "completed"
    },
    "tags": []
   },
   "outputs": [
    {
     "name": "stdout",
     "output_type": "stream",
     "text": [
      "[0. 0. 0. ... 0. 0. 0.]\n",
      "CPU times: user 818 ms, sys: 24.4 ms, total: 842 ms\n",
      "Wall time: 247 ms\n"
     ]
    }
   ],
   "source": [
    "%%time\n",
    "lgbm_clf = LGBMClassifier(random_state=42)\n",
    "lgbm_clf.fit(X_train_rus, y_train_rus)\n",
    "\n",
    "output_lgbm = lgbm_clf.predict(X_test)\n",
    "print(output_lgbm)\n"
   ]
  },
  {
   "cell_type": "code",
   "execution_count": 23,
   "id": "a8a5a4db",
   "metadata": {
    "execution": {
     "iopub.execute_input": "2022-08-17T08:55:43.835307Z",
     "iopub.status.busy": "2022-08-17T08:55:43.834919Z",
     "iopub.status.idle": "2022-08-17T08:55:43.850384Z",
     "shell.execute_reply": "2022-08-17T08:55:43.849570Z"
    },
    "papermill": {
     "duration": 0.036375,
     "end_time": "2022-08-17T08:55:43.852820",
     "exception": false,
     "start_time": "2022-08-17T08:55:43.816445",
     "status": "completed"
    },
    "tags": []
   },
   "outputs": [],
   "source": [
    "pd.DataFrame(output_lgbm).rename(columns={0: 'target'}).to_csv('submission_lgbm_rus.csv', index_label='pixel_id')"
   ]
  },
  {
   "cell_type": "code",
   "execution_count": 24,
   "id": "3e2fae58",
   "metadata": {
    "execution": {
     "iopub.execute_input": "2022-08-17T08:55:43.888444Z",
     "iopub.status.busy": "2022-08-17T08:55:43.888051Z",
     "iopub.status.idle": "2022-08-17T08:55:43.903433Z",
     "shell.execute_reply": "2022-08-17T08:55:43.902468Z"
    },
    "papermill": {
     "duration": 0.035847,
     "end_time": "2022-08-17T08:55:43.905800",
     "exception": false,
     "start_time": "2022-08-17T08:55:43.869953",
     "status": "completed"
    },
    "tags": []
   },
   "outputs": [
    {
     "name": "stdout",
     "output_type": "stream",
     "text": [
      "[[29  0  0]\n",
      " [ 0 29  0]\n",
      " [ 0  0 29]]\n"
     ]
    }
   ],
   "source": [
    "M = confusion_matrix(lgbm_clf.predict(X_train_rus), y_train_rus)\n",
    "print(M)"
   ]
  },
  {
   "cell_type": "markdown",
   "id": "fcc97cbd",
   "metadata": {
    "papermill": {
     "duration": 0.016983,
     "end_time": "2022-08-17T08:55:43.939918",
     "exception": false,
     "start_time": "2022-08-17T08:55:43.922935",
     "status": "completed"
    },
    "tags": []
   },
   "source": [
    "<a id=\"xgboost\"></a>\n",
    "## XGBoost"
   ]
  },
  {
   "cell_type": "code",
   "execution_count": 25,
   "id": "01b2c814",
   "metadata": {
    "execution": {
     "iopub.execute_input": "2022-08-17T08:55:43.975308Z",
     "iopub.status.busy": "2022-08-17T08:55:43.974155Z",
     "iopub.status.idle": "2022-08-17T08:55:44.489033Z",
     "shell.execute_reply": "2022-08-17T08:55:44.487648Z"
    },
    "papermill": {
     "duration": 0.535001,
     "end_time": "2022-08-17T08:55:44.491418",
     "exception": false,
     "start_time": "2022-08-17T08:55:43.956417",
     "status": "completed"
    },
    "tags": []
   },
   "outputs": [
    {
     "name": "stdout",
     "output_type": "stream",
     "text": [
      "[0 0 0 ... 0 0 0]\n",
      "CPU times: user 1.89 s, sys: 11 ms, total: 1.9 s\n",
      "Wall time: 508 ms\n"
     ]
    }
   ],
   "source": [
    "%%time\n",
    "xgb_clf = XGBClassifier(random_state=42)\n",
    "xgb_clf.fit(X_train_rus, y_train_rus)\n",
    "\n",
    "output_xgb = xgb_clf.predict(X_test)\n",
    "print(output_xgb)\n"
   ]
  },
  {
   "cell_type": "code",
   "execution_count": 26,
   "id": "7c7dd4b8",
   "metadata": {
    "execution": {
     "iopub.execute_input": "2022-08-17T08:55:44.526437Z",
     "iopub.status.busy": "2022-08-17T08:55:44.525792Z",
     "iopub.status.idle": "2022-08-17T08:55:44.540348Z",
     "shell.execute_reply": "2022-08-17T08:55:44.539543Z"
    },
    "papermill": {
     "duration": 0.034364,
     "end_time": "2022-08-17T08:55:44.542362",
     "exception": false,
     "start_time": "2022-08-17T08:55:44.507998",
     "status": "completed"
    },
    "tags": []
   },
   "outputs": [],
   "source": [
    "pd.DataFrame(output_xgb).rename(columns={0: 'target'}).to_csv('submission_xgb_rus.csv', index_label='pixel_id')"
   ]
  },
  {
   "cell_type": "code",
   "execution_count": 27,
   "id": "916ebd7c",
   "metadata": {
    "execution": {
     "iopub.execute_input": "2022-08-17T08:55:44.577640Z",
     "iopub.status.busy": "2022-08-17T08:55:44.576971Z",
     "iopub.status.idle": "2022-08-17T08:55:44.597859Z",
     "shell.execute_reply": "2022-08-17T08:55:44.596926Z"
    },
    "papermill": {
     "duration": 0.04123,
     "end_time": "2022-08-17T08:55:44.600275",
     "exception": false,
     "start_time": "2022-08-17T08:55:44.559045",
     "status": "completed"
    },
    "tags": []
   },
   "outputs": [
    {
     "name": "stdout",
     "output_type": "stream",
     "text": [
      "[[29  0  0]\n",
      " [ 0 29  0]\n",
      " [ 0  0 29]]\n"
     ]
    }
   ],
   "source": [
    "M = confusion_matrix(xgb_clf.predict(X_train_rus), y_train_rus)\n",
    "print(M)"
   ]
  },
  {
   "cell_type": "markdown",
   "id": "33786e6f",
   "metadata": {
    "papermill": {
     "duration": 0.016637,
     "end_time": "2022-08-17T08:55:44.635079",
     "exception": false,
     "start_time": "2022-08-17T08:55:44.618442",
     "status": "completed"
    },
    "tags": []
   },
   "source": [
    "<a id=\"catboost\"></a>\n",
    "## CatBoost"
   ]
  },
  {
   "cell_type": "code",
   "execution_count": 28,
   "id": "fbec5a9b",
   "metadata": {
    "execution": {
     "iopub.execute_input": "2022-08-17T08:55:44.670948Z",
     "iopub.status.busy": "2022-08-17T08:55:44.669868Z",
     "iopub.status.idle": "2022-08-17T08:56:18.750904Z",
     "shell.execute_reply": "2022-08-17T08:56:18.749328Z"
    },
    "papermill": {
     "duration": 34.117801,
     "end_time": "2022-08-17T08:56:18.769824",
     "exception": false,
     "start_time": "2022-08-17T08:55:44.652023",
     "status": "completed"
    },
    "tags": []
   },
   "outputs": [
    {
     "name": "stdout",
     "output_type": "stream",
     "text": [
      "[[0.]\n",
      " [0.]\n",
      " [0.]\n",
      " ...\n",
      " [0.]\n",
      " [0.]\n",
      " [0.]]\n",
      "CPU times: user 2min 7s, sys: 1.84 s, total: 2min 9s\n",
      "Wall time: 34.1 s\n"
     ]
    }
   ],
   "source": [
    "%%time\n",
    "cb_clf = CatBoostClassifier(random_state=42, verbose=False)\n",
    "cb_clf.fit(X_train_rus, y_train_rus)\n",
    "\n",
    "output_cb = cb_clf.predict(X_test)\n",
    "print(output_cb)\n"
   ]
  },
  {
   "cell_type": "code",
   "execution_count": 29,
   "id": "9c24763c",
   "metadata": {
    "execution": {
     "iopub.execute_input": "2022-08-17T08:56:18.805392Z",
     "iopub.status.busy": "2022-08-17T08:56:18.805016Z",
     "iopub.status.idle": "2022-08-17T08:56:18.821467Z",
     "shell.execute_reply": "2022-08-17T08:56:18.820525Z"
    },
    "papermill": {
     "duration": 0.036855,
     "end_time": "2022-08-17T08:56:18.823800",
     "exception": false,
     "start_time": "2022-08-17T08:56:18.786945",
     "status": "completed"
    },
    "tags": []
   },
   "outputs": [],
   "source": [
    "pd.DataFrame(output_cb).rename(columns={0: 'target'}).to_csv('submission_cb_rus.csv', index_label='pixel_id')"
   ]
  },
  {
   "cell_type": "code",
   "execution_count": 30,
   "id": "26698447",
   "metadata": {
    "execution": {
     "iopub.execute_input": "2022-08-17T08:56:18.859008Z",
     "iopub.status.busy": "2022-08-17T08:56:18.858603Z",
     "iopub.status.idle": "2022-08-17T08:56:18.874583Z",
     "shell.execute_reply": "2022-08-17T08:56:18.873351Z"
    },
    "papermill": {
     "duration": 0.036176,
     "end_time": "2022-08-17T08:56:18.876877",
     "exception": false,
     "start_time": "2022-08-17T08:56:18.840701",
     "status": "completed"
    },
    "tags": []
   },
   "outputs": [
    {
     "name": "stdout",
     "output_type": "stream",
     "text": [
      "[[29  0  0]\n",
      " [ 0 29  0]\n",
      " [ 0  0 29]]\n"
     ]
    }
   ],
   "source": [
    "M = confusion_matrix(cb_clf.predict(X_train_rus), y_train_rus)\n",
    "print(M)"
   ]
  },
  {
   "cell_type": "markdown",
   "id": "a312537f",
   "metadata": {
    "papermill": {
     "duration": 0.016512,
     "end_time": "2022-08-17T08:56:18.910359",
     "exception": false,
     "start_time": "2022-08-17T08:56:18.893847",
     "status": "completed"
    },
    "tags": []
   },
   "source": [
    "<a id=\"adaboost\"></a>\n",
    "## AdaBoost"
   ]
  },
  {
   "cell_type": "code",
   "execution_count": 31,
   "id": "553e5285",
   "metadata": {
    "execution": {
     "iopub.execute_input": "2022-08-17T08:56:18.946115Z",
     "iopub.status.busy": "2022-08-17T08:56:18.944950Z",
     "iopub.status.idle": "2022-08-17T08:56:19.398229Z",
     "shell.execute_reply": "2022-08-17T08:56:19.397028Z"
    },
    "papermill": {
     "duration": 0.473848,
     "end_time": "2022-08-17T08:56:19.400801",
     "exception": false,
     "start_time": "2022-08-17T08:56:18.926953",
     "status": "completed"
    },
    "tags": []
   },
   "outputs": [
    {
     "name": "stdout",
     "output_type": "stream",
     "text": [
      "[0. 0. 0. ... 0. 0. 0.]\n",
      "CPU times: user 439 ms, sys: 4.88 ms, total: 444 ms\n",
      "Wall time: 446 ms\n"
     ]
    }
   ],
   "source": [
    "%%time\n",
    "ab_clf = AdaBoostClassifier(random_state=42)\n",
    "ab_clf.fit(X_train_rus, y_train_rus)\n",
    "\n",
    "output_ab = ab_clf.predict(X_test)\n",
    "print(output_ab)\n"
   ]
  },
  {
   "cell_type": "code",
   "execution_count": 32,
   "id": "f44563c0",
   "metadata": {
    "execution": {
     "iopub.execute_input": "2022-08-17T08:56:19.437214Z",
     "iopub.status.busy": "2022-08-17T08:56:19.436106Z",
     "iopub.status.idle": "2022-08-17T08:56:19.452968Z",
     "shell.execute_reply": "2022-08-17T08:56:19.451908Z"
    },
    "papermill": {
     "duration": 0.03736,
     "end_time": "2022-08-17T08:56:19.455430",
     "exception": false,
     "start_time": "2022-08-17T08:56:19.418070",
     "status": "completed"
    },
    "tags": []
   },
   "outputs": [],
   "source": [
    "pd.DataFrame(output_ab).rename(columns={0: 'target'}).to_csv('submission_ab_rus.csv', index_label='pixel_id')"
   ]
  },
  {
   "cell_type": "code",
   "execution_count": 33,
   "id": "0e77f6ac",
   "metadata": {
    "execution": {
     "iopub.execute_input": "2022-08-17T08:56:19.491596Z",
     "iopub.status.busy": "2022-08-17T08:56:19.490468Z",
     "iopub.status.idle": "2022-08-17T08:56:19.512918Z",
     "shell.execute_reply": "2022-08-17T08:56:19.511871Z"
    },
    "papermill": {
     "duration": 0.042786,
     "end_time": "2022-08-17T08:56:19.515319",
     "exception": false,
     "start_time": "2022-08-17T08:56:19.472533",
     "status": "completed"
    },
    "tags": []
   },
   "outputs": [
    {
     "name": "stdout",
     "output_type": "stream",
     "text": [
      "[[26  1  0]\n",
      " [ 3 28  0]\n",
      " [ 0  0 29]]\n"
     ]
    }
   ],
   "source": [
    "M = confusion_matrix(ab_clf.predict(X_train_rus), y_train_rus)\n",
    "print(M)"
   ]
  },
  {
   "cell_type": "markdown",
   "id": "9bd45c2d",
   "metadata": {
    "papermill": {
     "duration": 0.019177,
     "end_time": "2022-08-17T08:56:19.551653",
     "exception": false,
     "start_time": "2022-08-17T08:56:19.532476",
     "status": "completed"
    },
    "tags": []
   },
   "source": [
    "## Ensemble"
   ]
  },
  {
   "cell_type": "markdown",
   "id": "83502134",
   "metadata": {
    "papermill": {
     "duration": 0.016892,
     "end_time": "2022-08-17T08:56:19.585932",
     "exception": false,
     "start_time": "2022-08-17T08:56:19.569040",
     "status": "completed"
    },
    "tags": []
   },
   "source": [
    "References\n",
    "\n",
    "Chen, Chao, Andy Liaw, and Leo Breiman. “Using random forest to learn imbalanced data.” University of California, Berkeley 110 (2004): 1-12.\n",
    "\n",
    "X. Y. Liu, J. Wu and Z. H. Zhou, “Exploratory Undersampling for Class-Imbalance Learning,” in IEEE Transactions on Systems, Man, and Cybernetics, Part B (Cybernetics), vol. 39, no. 2, pp. 539-550, April 2009.\n",
    "\n",
    "Seiffert, C., Khoshgoftaar, T. M., Van Hulse, J., & Napolitano, A. “RUSBoost: A hybrid approach to alleviating class imbalance.” IEEE Transactions on Systems, Man, and Cybernetics-Part A: Systems and Humans 40.1 (2010): 185-197."
   ]
  },
  {
   "cell_type": "code",
   "execution_count": 34,
   "id": "b8066cc1",
   "metadata": {
    "execution": {
     "iopub.execute_input": "2022-08-17T08:56:19.622468Z",
     "iopub.status.busy": "2022-08-17T08:56:19.621847Z",
     "iopub.status.idle": "2022-08-17T08:56:19.626437Z",
     "shell.execute_reply": "2022-08-17T08:56:19.625632Z"
    },
    "papermill": {
     "duration": 0.025442,
     "end_time": "2022-08-17T08:56:19.628517",
     "exception": false,
     "start_time": "2022-08-17T08:56:19.603075",
     "status": "completed"
    },
    "tags": []
   },
   "outputs": [],
   "source": [
    "from imblearn.ensemble import BalancedRandomForestClassifier"
   ]
  },
  {
   "cell_type": "code",
   "execution_count": 35,
   "id": "bcbfa20f",
   "metadata": {
    "execution": {
     "iopub.execute_input": "2022-08-17T08:56:19.666215Z",
     "iopub.status.busy": "2022-08-17T08:56:19.665787Z",
     "iopub.status.idle": "2022-08-17T08:56:20.139196Z",
     "shell.execute_reply": "2022-08-17T08:56:20.138032Z"
    },
    "papermill": {
     "duration": 0.4953,
     "end_time": "2022-08-17T08:56:20.141811",
     "exception": false,
     "start_time": "2022-08-17T08:56:19.646511",
     "status": "completed"
    },
    "tags": []
   },
   "outputs": [
    {
     "name": "stdout",
     "output_type": "stream",
     "text": [
      "[0. 0. 0. ... 0. 0. 0.]\n"
     ]
    }
   ],
   "source": [
    "# A balanced random forest randomly under-samples each boostrap sample to balance it.\n",
    "RF_imb_clf = BalancedRandomForestClassifier(max_depth=20, random_state=42)\n",
    "RF_imb_clf.fit(X_train, y_train)\n",
    "\n",
    "output_RF_imb = RF_imb_clf.predict(X_test)\n",
    "print(output_RF_imb)"
   ]
  },
  {
   "cell_type": "code",
   "execution_count": 36,
   "id": "fb41d4dc",
   "metadata": {
    "execution": {
     "iopub.execute_input": "2022-08-17T08:56:20.181344Z",
     "iopub.status.busy": "2022-08-17T08:56:20.180936Z",
     "iopub.status.idle": "2022-08-17T08:56:20.197505Z",
     "shell.execute_reply": "2022-08-17T08:56:20.196384Z"
    },
    "papermill": {
     "duration": 0.038867,
     "end_time": "2022-08-17T08:56:20.200232",
     "exception": false,
     "start_time": "2022-08-17T08:56:20.161365",
     "status": "completed"
    },
    "tags": []
   },
   "outputs": [],
   "source": [
    "pd.DataFrame(output_RF_imb).rename(columns={0: 'target'}).to_csv('submission_RF_imb.csv', index_label='pixel_id')"
   ]
  },
  {
   "cell_type": "code",
   "execution_count": 37,
   "id": "851d73c5",
   "metadata": {
    "execution": {
     "iopub.execute_input": "2022-08-17T08:56:20.238060Z",
     "iopub.status.busy": "2022-08-17T08:56:20.237074Z",
     "iopub.status.idle": "2022-08-17T08:56:20.305817Z",
     "shell.execute_reply": "2022-08-17T08:56:20.304710Z"
    },
    "papermill": {
     "duration": 0.090189,
     "end_time": "2022-08-17T08:56:20.308347",
     "exception": false,
     "start_time": "2022-08-17T08:56:20.218158",
     "status": "completed"
    },
    "tags": []
   },
   "outputs": [
    {
     "name": "stdout",
     "output_type": "stream",
     "text": [
      "[[5497    0    0]\n",
      " [ 245   29    0]\n",
      " [ 332    0   29]]\n"
     ]
    }
   ],
   "source": [
    "M = confusion_matrix(RF_imb_clf.predict(X_train), y_train)\n",
    "print(M)"
   ]
  },
  {
   "cell_type": "code",
   "execution_count": 38,
   "id": "2fc57200",
   "metadata": {
    "execution": {
     "iopub.execute_input": "2022-08-17T08:56:20.344834Z",
     "iopub.status.busy": "2022-08-17T08:56:20.344417Z",
     "iopub.status.idle": "2022-08-17T08:56:20.348762Z",
     "shell.execute_reply": "2022-08-17T08:56:20.347953Z"
    },
    "papermill": {
     "duration": 0.025082,
     "end_time": "2022-08-17T08:56:20.351155",
     "exception": false,
     "start_time": "2022-08-17T08:56:20.326073",
     "status": "completed"
    },
    "tags": []
   },
   "outputs": [],
   "source": [
    "from imblearn.ensemble import EasyEnsembleClassifier"
   ]
  },
  {
   "cell_type": "code",
   "execution_count": 39,
   "id": "3de9a099",
   "metadata": {
    "execution": {
     "iopub.execute_input": "2022-08-17T08:56:20.389038Z",
     "iopub.status.busy": "2022-08-17T08:56:20.388305Z",
     "iopub.status.idle": "2022-08-17T08:56:24.885915Z",
     "shell.execute_reply": "2022-08-17T08:56:24.884670Z"
    },
    "papermill": {
     "duration": 4.519289,
     "end_time": "2022-08-17T08:56:24.888430",
     "exception": false,
     "start_time": "2022-08-17T08:56:20.369141",
     "status": "completed"
    },
    "tags": []
   },
   "outputs": [
    {
     "name": "stdout",
     "output_type": "stream",
     "text": [
      "[0. 0. 0. ... 0. 0. 0.]\n"
     ]
    }
   ],
   "source": [
    "eec = EasyEnsembleClassifier(random_state=42)\n",
    "eec.fit(X_train, y_train)\n",
    "\n",
    "y_pred = eec.predict(X_test)\n",
    "print(y_pred)"
   ]
  },
  {
   "cell_type": "code",
   "execution_count": 40,
   "id": "f5c8d1b2",
   "metadata": {
    "execution": {
     "iopub.execute_input": "2022-08-17T08:56:24.925095Z",
     "iopub.status.busy": "2022-08-17T08:56:24.924656Z",
     "iopub.status.idle": "2022-08-17T08:56:24.941108Z",
     "shell.execute_reply": "2022-08-17T08:56:24.940152Z"
    },
    "papermill": {
     "duration": 0.03725,
     "end_time": "2022-08-17T08:56:24.943355",
     "exception": false,
     "start_time": "2022-08-17T08:56:24.906105",
     "status": "completed"
    },
    "tags": []
   },
   "outputs": [],
   "source": [
    "pd.DataFrame(y_pred).rename(columns={0: 'target'}).to_csv('submission_eec.csv', index_label='pixel_id')"
   ]
  },
  {
   "cell_type": "code",
   "execution_count": 41,
   "id": "27d8c383",
   "metadata": {
    "execution": {
     "iopub.execute_input": "2022-08-17T08:56:24.980516Z",
     "iopub.status.busy": "2022-08-17T08:56:24.980130Z",
     "iopub.status.idle": "2022-08-17T08:56:27.118565Z",
     "shell.execute_reply": "2022-08-17T08:56:27.117346Z"
    },
    "papermill": {
     "duration": 2.160322,
     "end_time": "2022-08-17T08:56:27.121370",
     "exception": false,
     "start_time": "2022-08-17T08:56:24.961048",
     "status": "completed"
    },
    "tags": []
   },
   "outputs": [
    {
     "name": "stdout",
     "output_type": "stream",
     "text": [
      "[[5286    0    0]\n",
      " [ 448   29    0]\n",
      " [ 340    0   29]]\n"
     ]
    }
   ],
   "source": [
    "M = confusion_matrix(eec.predict(X_train), y_train)\n",
    "print(M)"
   ]
  },
  {
   "cell_type": "code",
   "execution_count": 42,
   "id": "078427d2",
   "metadata": {
    "execution": {
     "iopub.execute_input": "2022-08-17T08:56:27.159758Z",
     "iopub.status.busy": "2022-08-17T08:56:27.159136Z",
     "iopub.status.idle": "2022-08-17T08:56:27.163428Z",
     "shell.execute_reply": "2022-08-17T08:56:27.162637Z"
    },
    "papermill": {
     "duration": 0.025844,
     "end_time": "2022-08-17T08:56:27.165418",
     "exception": false,
     "start_time": "2022-08-17T08:56:27.139574",
     "status": "completed"
    },
    "tags": []
   },
   "outputs": [],
   "source": [
    "from imblearn.ensemble import RUSBoostClassifier"
   ]
  },
  {
   "cell_type": "code",
   "execution_count": 43,
   "id": "2670d97f",
   "metadata": {
    "execution": {
     "iopub.execute_input": "2022-08-17T08:56:27.202939Z",
     "iopub.status.busy": "2022-08-17T08:56:27.202251Z",
     "iopub.status.idle": "2022-08-17T08:56:27.994573Z",
     "shell.execute_reply": "2022-08-17T08:56:27.993360Z"
    },
    "papermill": {
     "duration": 0.814004,
     "end_time": "2022-08-17T08:56:27.997230",
     "exception": false,
     "start_time": "2022-08-17T08:56:27.183226",
     "status": "completed"
    },
    "tags": []
   },
   "outputs": [
    {
     "name": "stdout",
     "output_type": "stream",
     "text": [
      "[0. 0. 0. ... 0. 0. 0.]\n"
     ]
    }
   ],
   "source": [
    "rusboost_clf = RUSBoostClassifier(random_state=42)\n",
    "rusboost_clf.fit(X_train, y_train)\n",
    "\n",
    "y_pred = rusboost_clf.predict(X_test)\n",
    "print(y_pred)"
   ]
  },
  {
   "cell_type": "code",
   "execution_count": 44,
   "id": "9c0a340f",
   "metadata": {
    "execution": {
     "iopub.execute_input": "2022-08-17T08:56:28.036926Z",
     "iopub.status.busy": "2022-08-17T08:56:28.036085Z",
     "iopub.status.idle": "2022-08-17T08:56:28.052437Z",
     "shell.execute_reply": "2022-08-17T08:56:28.051317Z"
    },
    "papermill": {
     "duration": 0.038537,
     "end_time": "2022-08-17T08:56:28.054849",
     "exception": false,
     "start_time": "2022-08-17T08:56:28.016312",
     "status": "completed"
    },
    "tags": []
   },
   "outputs": [],
   "source": [
    "pd.DataFrame(y_pred).rename(columns={0: 'target'}).to_csv('submission_rusboost.csv', index_label='pixel_id')"
   ]
  },
  {
   "cell_type": "code",
   "execution_count": 45,
   "id": "888990c8",
   "metadata": {
    "execution": {
     "iopub.execute_input": "2022-08-17T08:56:28.092125Z",
     "iopub.status.busy": "2022-08-17T08:56:28.091320Z",
     "iopub.status.idle": "2022-08-17T08:56:28.310043Z",
     "shell.execute_reply": "2022-08-17T08:56:28.308553Z"
    },
    "papermill": {
     "duration": 0.239612,
     "end_time": "2022-08-17T08:56:28.312313",
     "exception": false,
     "start_time": "2022-08-17T08:56:28.072701",
     "status": "completed"
    },
    "tags": []
   },
   "outputs": [
    {
     "name": "stdout",
     "output_type": "stream",
     "text": [
      "[[6003    8   19]\n",
      " [  11   21    0]\n",
      " [  60    0   10]]\n"
     ]
    }
   ],
   "source": [
    "M = confusion_matrix(rusboost_clf.predict(X_train), y_train)\n",
    "print(M)"
   ]
  }
 ],
 "metadata": {
  "kernelspec": {
   "display_name": "Python 3",
   "language": "python",
   "name": "python3"
  },
  "language_info": {
   "codemirror_mode": {
    "name": "ipython",
    "version": 3
   },
   "file_extension": ".py",
   "mimetype": "text/x-python",
   "name": "python",
   "nbconvert_exporter": "python",
   "pygments_lexer": "ipython3",
   "version": "3.7.12"
  },
  "papermill": {
   "default_parameters": {},
   "duration": 77.586585,
   "end_time": "2022-08-17T08:56:31.557124",
   "environment_variables": {},
   "exception": null,
   "input_path": "__notebook__.ipynb",
   "output_path": "__notebook__.ipynb",
   "parameters": {},
   "start_time": "2022-08-17T08:55:13.970539",
   "version": "2.3.4"
  }
 },
 "nbformat": 4,
 "nbformat_minor": 5
}
